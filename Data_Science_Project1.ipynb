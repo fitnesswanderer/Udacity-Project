{
  "nbformat": 4,
  "nbformat_minor": 0,
  "metadata": {
    "colab": {
      "name": "Data Science_Project1",
      "provenance": [],
      "collapsed_sections": [],
      "authorship_tag": "ABX9TyPePeVwl+HAhgesljtu/ggN",
      "include_colab_link": true
    },
    "kernelspec": {
      "display_name": "Python 3",
      "name": "python3"
    }
  },
  "cells": [
    {
      "cell_type": "markdown",
      "metadata": {
        "id": "view-in-github",
        "colab_type": "text"
      },
      "source": [
        "<a href=\"https://colab.research.google.com/github/fitnesswanderer/Udacity-Project/blob/main/Data_Science_Project1.ipynb\" target=\"_parent\"><img src=\"https://colab.research.google.com/assets/colab-badge.svg\" alt=\"Open In Colab\"/></a>"
      ]
    },
    {
      "cell_type": "code",
      "metadata": {
        "colab": {
          "base_uri": "https://localhost:8080/",
          "height": 416
        },
        "id": "FTOhHVEP1e2D",
        "outputId": "abcb8c92-f9ba-4d49-eeed-af48526fd4f3"
      },
      "source": [
        "import numpy as np\n",
        "import pandas as pd\n",
        "import matplotlib.pyplot as plt\n",
        "from sklearn.linear_model import LinearRegression\n",
        "from sklearn.model_selection import train_test_split\n",
        "from sklearn.metrics import r2_score, mean_squared_error\n",
        "import seaborn as sns\n",
        "%matplotlib inline\n",
        "\n",
        "df = pd.read_csv('https://raw.githubusercontent.com/fitnesswanderer/Udacity-Project/main/listings.csv')\n",
        "df.head()"
      ],
      "execution_count": 85,
      "outputs": [
        {
          "output_type": "execute_result",
          "data": {
            "text/html": [
              "<div>\n",
              "<style scoped>\n",
              "    .dataframe tbody tr th:only-of-type {\n",
              "        vertical-align: middle;\n",
              "    }\n",
              "\n",
              "    .dataframe tbody tr th {\n",
              "        vertical-align: top;\n",
              "    }\n",
              "\n",
              "    .dataframe thead th {\n",
              "        text-align: right;\n",
              "    }\n",
              "</style>\n",
              "<table border=\"1\" class=\"dataframe\">\n",
              "  <thead>\n",
              "    <tr style=\"text-align: right;\">\n",
              "      <th></th>\n",
              "      <th>id</th>\n",
              "      <th>name</th>\n",
              "      <th>host_id</th>\n",
              "      <th>host_name</th>\n",
              "      <th>neighbourhood_group</th>\n",
              "      <th>neighbourhood</th>\n",
              "      <th>latitude</th>\n",
              "      <th>longitude</th>\n",
              "      <th>room_type</th>\n",
              "      <th>price</th>\n",
              "      <th>minimum_nights</th>\n",
              "      <th>number_of_reviews</th>\n",
              "      <th>last_review</th>\n",
              "      <th>reviews_per_month</th>\n",
              "      <th>calculated_host_listings_count</th>\n",
              "      <th>availability_365</th>\n",
              "    </tr>\n",
              "  </thead>\n",
              "  <tbody>\n",
              "    <tr>\n",
              "      <th>0</th>\n",
              "      <td>6983</td>\n",
              "      <td>Copenhagen 'N Livin'</td>\n",
              "      <td>16774</td>\n",
              "      <td>Simon</td>\n",
              "      <td>NaN</td>\n",
              "      <td>Nrrebro</td>\n",
              "      <td>55.68798</td>\n",
              "      <td>12.54571</td>\n",
              "      <td>Private room</td>\n",
              "      <td>354</td>\n",
              "      <td>2</td>\n",
              "      <td>168</td>\n",
              "      <td>2019-07-19</td>\n",
              "      <td>1.20</td>\n",
              "      <td>1</td>\n",
              "      <td>0</td>\n",
              "    </tr>\n",
              "    <tr>\n",
              "      <th>1</th>\n",
              "      <td>26057</td>\n",
              "      <td>Lovely house - most attractive area</td>\n",
              "      <td>109777</td>\n",
              "      <td>Kari</td>\n",
              "      <td>NaN</td>\n",
              "      <td>Indre By</td>\n",
              "      <td>55.69163</td>\n",
              "      <td>12.57459</td>\n",
              "      <td>Entire home/apt</td>\n",
              "      <td>2400</td>\n",
              "      <td>3</td>\n",
              "      <td>50</td>\n",
              "      <td>2019-12-14</td>\n",
              "      <td>0.57</td>\n",
              "      <td>1</td>\n",
              "      <td>363</td>\n",
              "    </tr>\n",
              "    <tr>\n",
              "      <th>2</th>\n",
              "      <td>29118</td>\n",
              "      <td>Best Location in Cool Istedgade</td>\n",
              "      <td>125230</td>\n",
              "      <td>Nana</td>\n",
              "      <td>NaN</td>\n",
              "      <td>Vesterbro-Kongens Enghave</td>\n",
              "      <td>55.67069</td>\n",
              "      <td>12.55430</td>\n",
              "      <td>Entire home/apt</td>\n",
              "      <td>725</td>\n",
              "      <td>7</td>\n",
              "      <td>22</td>\n",
              "      <td>2019-08-02</td>\n",
              "      <td>0.17</td>\n",
              "      <td>1</td>\n",
              "      <td>177</td>\n",
              "    </tr>\n",
              "    <tr>\n",
              "      <th>3</th>\n",
              "      <td>31094</td>\n",
              "      <td>Very central and cozy, new kitchen</td>\n",
              "      <td>129976</td>\n",
              "      <td>Ebbe</td>\n",
              "      <td>NaN</td>\n",
              "      <td>Vesterbro-Kongens Enghave</td>\n",
              "      <td>55.66744</td>\n",
              "      <td>12.55516</td>\n",
              "      <td>Entire home/apt</td>\n",
              "      <td>750</td>\n",
              "      <td>2</td>\n",
              "      <td>17</td>\n",
              "      <td>2017-08-25</td>\n",
              "      <td>0.13</td>\n",
              "      <td>1</td>\n",
              "      <td>301</td>\n",
              "    </tr>\n",
              "    <tr>\n",
              "      <th>4</th>\n",
              "      <td>32379</td>\n",
              "      <td>120 m2  artist flat on Vesterbro</td>\n",
              "      <td>140105</td>\n",
              "      <td>Lise</td>\n",
              "      <td>NaN</td>\n",
              "      <td>Vesterbro-Kongens Enghave</td>\n",
              "      <td>55.67297</td>\n",
              "      <td>12.55327</td>\n",
              "      <td>Entire home/apt</td>\n",
              "      <td>930</td>\n",
              "      <td>3</td>\n",
              "      <td>73</td>\n",
              "      <td>2019-08-17</td>\n",
              "      <td>0.57</td>\n",
              "      <td>1</td>\n",
              "      <td>54</td>\n",
              "    </tr>\n",
              "  </tbody>\n",
              "</table>\n",
              "</div>"
            ],
            "text/plain": [
              "      id  ... availability_365\n",
              "0   6983  ...                0\n",
              "1  26057  ...              363\n",
              "2  29118  ...              177\n",
              "3  31094  ...              301\n",
              "4  32379  ...               54\n",
              "\n",
              "[5 rows x 16 columns]"
            ]
          },
          "metadata": {
            "tags": []
          },
          "execution_count": 85
        }
      ]
    },
    {
      "cell_type": "markdown",
      "metadata": {
        "id": "8B_aXhKr1nT-"
      },
      "source": [
        ""
      ]
    },
    {
      "cell_type": "code",
      "metadata": {
        "colab": {
          "base_uri": "https://localhost:8080/"
        },
        "id": "Wc-oM3UK5nMk",
        "outputId": "25ba498c-d0e7-4017-85ce-17a63484a04f"
      },
      "source": [
        "# We solved this one for you by providing the number of rows and columns:\n",
        "num_rows = df.shape[0] #Provide the number of rows in the dataset\n",
        "num_cols = df.shape[1] #Provide the number of columns in the dataset\n",
        "#To print number of rows and columns in dataset.\n",
        "print(num_rows,num_cols)"
      ],
      "execution_count": 86,
      "outputs": [
        {
          "output_type": "stream",
          "text": [
            "8785 16\n"
          ],
          "name": "stdout"
        }
      ]
    },
    {
      "cell_type": "code",
      "metadata": {
        "colab": {
          "base_uri": "https://localhost:8080/"
        },
        "id": "K1t-Zg0C0aU5",
        "outputId": "887a3723-3127-423b-cbc5-b70248bfadae"
      },
      "source": [
        "print(list(df.columns))\n"
      ],
      "execution_count": 87,
      "outputs": [
        {
          "output_type": "stream",
          "text": [
            "['id', 'name', 'host_id', 'host_name', 'neighbourhood_group', 'neighbourhood', 'latitude', 'longitude', 'room_type', 'price', 'minimum_nights', 'number_of_reviews', 'last_review', 'reviews_per_month', 'calculated_host_listings_count', 'availability_365']\n"
          ],
          "name": "stdout"
        }
      ]
    },
    {
      "cell_type": "code",
      "metadata": {
        "colab": {
          "base_uri": "https://localhost:8080/"
        },
        "id": "f8aX5Tr1597v",
        "outputId": "d6b68763-fa3d-4d36-d7d4-24fd1cd0a777"
      },
      "source": [
        "#Finding missing values in datasets\n",
        "no_nulls = set(df.columns[df.isnull().mean() == 0])  #Provide a set of columns with 0 missing values.\n",
        "\n",
        "print(no_nulls)"
      ],
      "execution_count": 88,
      "outputs": [
        {
          "output_type": "stream",
          "text": [
            "{'calculated_host_listings_count', 'id', 'price', 'latitude', 'number_of_reviews', 'availability_365', 'minimum_nights', 'host_id', 'room_type', 'longitude', 'neighbourhood'}\n"
          ],
          "name": "stdout"
        }
      ]
    },
    {
      "cell_type": "code",
      "metadata": {
        "colab": {
          "base_uri": "https://localhost:8080/"
        },
        "id": "gxbwG9xx6ihw",
        "outputId": "35bffffc-6aaf-481f-c22c-b6ae04cc2010"
      },
      "source": [
        "half_missing_cols = set(df.columns[df.isnull().mean() > 0.5 ]) #Provide a set of columns with more than 50% of the values missing\n",
        "print (half_missing_cols)"
      ],
      "execution_count": 89,
      "outputs": [
        {
          "output_type": "stream",
          "text": [
            "{'neighbourhood_group'}\n"
          ],
          "name": "stdout"
        }
      ]
    },
    {
      "cell_type": "code",
      "metadata": {
        "colab": {
          "base_uri": "https://localhost:8080/"
        },
        "id": "fgteCQNC6y2j",
        "outputId": "5ec792b5-5062-4c43-e9fa-57dab8296aa5"
      },
      "source": [
        "most_missing_cols = set(df.columns[df.isnull().mean() > 0.75 ]) #Provide a set of columns with more than 75% of the values missing\n",
        "print (most_missing_cols)"
      ],
      "execution_count": 90,
      "outputs": [
        {
          "output_type": "stream",
          "text": [
            "{'neighbourhood_group'}\n"
          ],
          "name": "stdout"
        }
      ]
    },
    {
      "cell_type": "code",
      "metadata": {
        "colab": {
          "base_uri": "https://localhost:8080/",
          "height": 716
        },
        "id": "fDfQwy_07Mbl",
        "outputId": "9dd0a8ed-802c-481d-b7b7-4eec2d285407"
      },
      "source": [
        "status_vals = df. neighbourhood.value_counts() #Provide a pandas series of the counts for each neighbourhood status\n",
        "# The below should be a bar chart of the different neighbourhood in Copenhagen with AirBnB listings.\n",
        "plt.figure(figsize=(12,12))\n",
        "status_vals.plot(kind=\"barh\")\n",
        "\n",
        "\n",
        "plt.title(\"AirBnB listings in different neighbourhoods\");"
      ],
      "execution_count": 91,
      "outputs": [
        {
          "output_type": "display_data",
          "data": {
            "image/png": "[encoded data removed]",
            "text/plain": [
              "<Figure size 864x864 with 1 Axes>"
            ]
          },
          "metadata": {
            "tags": [],
            "needs_background": "light"
          }
        }
      ]
    },
    {
      "cell_type": "code",
      "metadata": {
        "colab": {
          "base_uri": "https://localhost:8080/",
          "height": 281
        },
        "id": "0zzOq_Ks812r",
        "outputId": "ca67a9fd-121a-4a43-c131-1f408e8ad3ae"
      },
      "source": [
        "status_vals = df. room_type.value_counts() #Provide a pandas series of the counts for each room types\n",
        "# The below should be a bar chart of the different roomtypes in Copenhagen for AirBnB listings.\n",
        "\n",
        "status_vals.plot(kind=\"barh\");\n",
        "plt.title(\"Types of AirBnB rooms\");"
      ],
      "execution_count": 92,
      "outputs": [
        {
          "output_type": "display_data",
          "data": {
            "image/png": "[encoded data removed]",
            "text/plain": [
              "<Figure size 432x288 with 1 Axes>"
            ]
          },
          "metadata": {
            "tags": [],
            "needs_background": "light"
          }
        }
      ]
    },
    {
      "cell_type": "code",
      "metadata": {
        "colab": {
          "base_uri": "https://localhost:8080/"
        },
        "id": "0AQ7zrpWPSaB",
        "outputId": "6710301e-cab2-4cfc-cd25-14b39ecc6322"
      },
      "source": [
        "\n",
        "df[\"room_type\"].value_counts()"
      ],
      "execution_count": 93,
      "outputs": [
        {
          "output_type": "execute_result",
          "data": {
            "text/plain": [
              "Entire home/apt    7298\n",
              "Private room       1438\n",
              "Hotel room           31\n",
              "Shared room          18\n",
              "Name: room_type, dtype: int64"
            ]
          },
          "metadata": {
            "tags": []
          },
          "execution_count": 93
        }
      ]
    },
    {
      "cell_type": "code",
      "metadata": {
        "colab": {
          "base_uri": "https://localhost:8080/",
          "height": 627
        },
        "id": "X4nWluSZPdM1",
        "outputId": "75f5a566-992c-4862-f042-557cc2622657"
      },
      "source": [
        "plt.figure(figsize=(12,12))\n",
        "plt.ylabel('Count',fontsize = 10 )\n",
        "plt.xlabel('Listing price in Danish Krone', fontsize = 12)\n",
        "df.groupby([\"neighbourhood\", \"room_type\"]).mean()[\"price\"].plot(kind = 'barh', figsize=(20,10))\n"
      ],
      "execution_count": 94,
      "outputs": [
        {
          "output_type": "execute_result",
          "data": {
            "text/plain": [
              "<matplotlib.axes._subplots.AxesSubplot at 0x7f9a3f487fd0>"
            ]
          },
          "metadata": {
            "tags": []
          },
          "execution_count": 94
        },
        {
          "output_type": "display_data",
          "data": {
            "image/png": "[encoded data removed]",
            "text/plain": [
              "<Figure size 1440x720 with 1 Axes>"
            ]
          },
          "metadata": {
            "tags": [],
            "needs_background": "light"
          }
        }
      ]
    },
    {
      "cell_type": "code",
      "metadata": {
        "colab": {
          "base_uri": "https://localhost:8080/",
          "height": 610
        },
        "id": "IsSkjWaFpFF-",
        "outputId": "80481b53-7f6a-43c3-af71-ebcac17f9855"
      },
      "source": [
        "df.groupby([\"neighbourhood\",]).mean()[\"price\"].iloc[5:].plot(kind = 'barh', figsize=(10,10))"
      ],
      "execution_count": 95,
      "outputs": [
        {
          "output_type": "execute_result",
          "data": {
            "text/plain": [
              "<matplotlib.axes._subplots.AxesSubplot at 0x7f9a3f444d10>"
            ]
          },
          "metadata": {
            "tags": []
          },
          "execution_count": 95
        },
        {
          "output_type": "display_data",
          "data": {
            "image/png": "[encoded data removed]",
            "text/plain": [
              "<Figure size 720x720 with 1 Axes>"
            ]
          },
          "metadata": {
            "tags": [],
            "needs_background": "light"
          }
        }
      ]
    },
    {
      "cell_type": "code",
      "metadata": {
        "colab": {
          "base_uri": "https://localhost:8080/",
          "height": 610
        },
        "id": "zwCbp21yQCw0",
        "outputId": "f00f1a34-f9f3-452c-95d5-719e6a815978"
      },
      "source": [
        "df.groupby([\"neighbourhood\", \"room_type\"]).mean()[\"price\"].iloc[:5].plot(kind = 'barh', figsize=(10,10))"
      ],
      "execution_count": 96,
      "outputs": [
        {
          "output_type": "execute_result",
          "data": {
            "text/plain": [
              "<matplotlib.axes._subplots.AxesSubplot at 0x7f9a3f2c4a90>"
            ]
          },
          "metadata": {
            "tags": []
          },
          "execution_count": 96
        },
        {
          "output_type": "display_data",
          "data": {
            "image/png": "[encoded data removed]",
            "text/plain": [
              "<Figure size 720x720 with 1 Axes>"
            ]
          },
          "metadata": {
            "tags": [],
            "needs_background": "light"
          }
        }
      ]
    },
    {
      "cell_type": "code",
      "metadata": {
        "colab": {
          "base_uri": "https://localhost:8080/",
          "height": 282
        },
        "id": "H22DqFsO9oPS",
        "outputId": "a8dd649e-9592-483f-c5d6-40442f39800a"
      },
      "source": [
        "df.describe()\n"
      ],
      "execution_count": 97,
      "outputs": [
        {
          "output_type": "execute_result",
          "data": {
            "text/html": [
              "<div>\n",
              "<style scoped>\n",
              "    .dataframe tbody tr th:only-of-type {\n",
              "        vertical-align: middle;\n",
              "    }\n",
              "\n",
              "    .dataframe tbody tr th {\n",
              "        vertical-align: top;\n",
              "    }\n",
              "\n",
              "    .dataframe thead th {\n",
              "        text-align: right;\n",
              "    }\n",
              "</style>\n",
              "<table border=\"1\" class=\"dataframe\">\n",
              "  <thead>\n",
              "    <tr style=\"text-align: right;\">\n",
              "      <th></th>\n",
              "      <th>id</th>\n",
              "      <th>host_id</th>\n",
              "      <th>neighbourhood_group</th>\n",
              "      <th>latitude</th>\n",
              "      <th>longitude</th>\n",
              "      <th>price</th>\n",
              "      <th>minimum_nights</th>\n",
              "      <th>number_of_reviews</th>\n",
              "      <th>reviews_per_month</th>\n",
              "      <th>calculated_host_listings_count</th>\n",
              "      <th>availability_365</th>\n",
              "    </tr>\n",
              "  </thead>\n",
              "  <tbody>\n",
              "    <tr>\n",
              "      <th>count</th>\n",
              "      <td>8.785000e+03</td>\n",
              "      <td>8.785000e+03</td>\n",
              "      <td>0.0</td>\n",
              "      <td>8785.000000</td>\n",
              "      <td>8785.000000</td>\n",
              "      <td>8785.000000</td>\n",
              "      <td>8785.000000</td>\n",
              "      <td>8785.000000</td>\n",
              "      <td>7372.000000</td>\n",
              "      <td>8785.000000</td>\n",
              "      <td>8785.000000</td>\n",
              "    </tr>\n",
              "    <tr>\n",
              "      <th>mean</th>\n",
              "      <td>2.396404e+07</td>\n",
              "      <td>7.890915e+07</td>\n",
              "      <td>NaN</td>\n",
              "      <td>55.679729</td>\n",
              "      <td>12.560093</td>\n",
              "      <td>1081.823221</td>\n",
              "      <td>4.203187</td>\n",
              "      <td>20.936710</td>\n",
              "      <td>0.604079</td>\n",
              "      <td>6.899146</td>\n",
              "      <td>147.215595</td>\n",
              "    </tr>\n",
              "    <tr>\n",
              "      <th>std</th>\n",
              "      <td>1.478228e+07</td>\n",
              "      <td>9.392858e+07</td>\n",
              "      <td>NaN</td>\n",
              "      <td>0.018981</td>\n",
              "      <td>0.031733</td>\n",
              "      <td>2695.562235</td>\n",
              "      <td>13.999261</td>\n",
              "      <td>37.075553</td>\n",
              "      <td>0.818381</td>\n",
              "      <td>28.919422</td>\n",
              "      <td>134.868395</td>\n",
              "    </tr>\n",
              "    <tr>\n",
              "      <th>min</th>\n",
              "      <td>6.983000e+03</td>\n",
              "      <td>1.677400e+04</td>\n",
              "      <td>NaN</td>\n",
              "      <td>55.616420</td>\n",
              "      <td>12.454010</td>\n",
              "      <td>0.000000</td>\n",
              "      <td>1.000000</td>\n",
              "      <td>0.000000</td>\n",
              "      <td>0.010000</td>\n",
              "      <td>1.000000</td>\n",
              "      <td>0.000000</td>\n",
              "    </tr>\n",
              "    <tr>\n",
              "      <th>25%</th>\n",
              "      <td>1.040420e+07</td>\n",
              "      <td>9.394081e+06</td>\n",
              "      <td>NaN</td>\n",
              "      <td>55.666480</td>\n",
              "      <td>12.543230</td>\n",
              "      <td>600.000000</td>\n",
              "      <td>2.000000</td>\n",
              "      <td>2.000000</td>\n",
              "      <td>0.170000</td>\n",
              "      <td>1.000000</td>\n",
              "      <td>15.000000</td>\n",
              "    </tr>\n",
              "    <tr>\n",
              "      <th>50%</th>\n",
              "      <td>2.490314e+07</td>\n",
              "      <td>3.410586e+07</td>\n",
              "      <td>NaN</td>\n",
              "      <td>55.680190</td>\n",
              "      <td>12.558600</td>\n",
              "      <td>846.000000</td>\n",
              "      <td>2.000000</td>\n",
              "      <td>8.000000</td>\n",
              "      <td>0.370000</td>\n",
              "      <td>1.000000</td>\n",
              "      <td>90.000000</td>\n",
              "    </tr>\n",
              "    <tr>\n",
              "      <th>75%</th>\n",
              "      <td>3.701247e+07</td>\n",
              "      <td>1.280741e+08</td>\n",
              "      <td>NaN</td>\n",
              "      <td>55.693790</td>\n",
              "      <td>12.581890</td>\n",
              "      <td>1175.000000</td>\n",
              "      <td>4.000000</td>\n",
              "      <td>24.000000</td>\n",
              "      <td>0.720000</td>\n",
              "      <td>1.000000</td>\n",
              "      <td>270.000000</td>\n",
              "    </tr>\n",
              "    <tr>\n",
              "      <th>max</th>\n",
              "      <td>4.831335e+07</td>\n",
              "      <td>3.899483e+08</td>\n",
              "      <td>NaN</td>\n",
              "      <td>55.732200</td>\n",
              "      <td>12.639800</td>\n",
              "      <td>156275.000000</td>\n",
              "      <td>600.000000</td>\n",
              "      <td>640.000000</td>\n",
              "      <td>21.250000</td>\n",
              "      <td>192.000000</td>\n",
              "      <td>365.000000</td>\n",
              "    </tr>\n",
              "  </tbody>\n",
              "</table>\n",
              "</div>"
            ],
            "text/plain": [
              "                 id  ...  availability_365\n",
              "count  8.785000e+03  ...       8785.000000\n",
              "mean   2.396404e+07  ...        147.215595\n",
              "std    1.478228e+07  ...        134.868395\n",
              "min    6.983000e+03  ...          0.000000\n",
              "25%    1.040420e+07  ...         15.000000\n",
              "50%    2.490314e+07  ...         90.000000\n",
              "75%    3.701247e+07  ...        270.000000\n",
              "max    4.831335e+07  ...        365.000000\n",
              "\n",
              "[8 rows x 11 columns]"
            ]
          },
          "metadata": {
            "tags": []
          },
          "execution_count": 97
        }
      ]
    },
    {
      "cell_type": "markdown",
      "metadata": {
        "id": "EzdoYj2gEK4C"
      },
      "source": [
        "Part 2: Predicting prices.This will involve data wrangling and modeling.\n"
      ]
    },
    {
      "cell_type": "code",
      "metadata": {
        "colab": {
          "base_uri": "https://localhost:8080/"
        },
        "id": "9ZZnYC3C8zxe",
        "outputId": "3173565f-4191-42a8-83d8-4d753d004235"
      },
      "source": [
        "df[\"price\"].mean()"
      ],
      "execution_count": 98,
      "outputs": [
        {
          "output_type": "execute_result",
          "data": {
            "text/plain": [
              "1081.8232214001139"
            ]
          },
          "metadata": {
            "tags": []
          },
          "execution_count": 98
        }
      ]
    },
    {
      "cell_type": "code",
      "metadata": {
        "id": "Vh-Ohl9Evbhy"
      },
      "source": [
        "df.groupby(['neighbourhood']).mean()['price'].sort_values()\n",
        "df_format= \"{:.1%}\"\n",
        "\n"
      ],
      "execution_count": 99,
      "outputs": []
    },
    {
      "cell_type": "code",
      "metadata": {
        "colab": {
          "base_uri": "https://localhost:8080/",
          "height": 265
        },
        "id": "yyNkLVrJcADw",
        "outputId": "fb3fef05-9f87-4cf5-f2e3-bccbc9774b92"
      },
      "source": [
        "prices_neighbourhoods = df.groupby(['neighbourhood']).mean()['price'].sort_values()\n",
        "(prices_neighbourhoods).plot(kind=\"barh\");\n",
        "\n",
        "\n",
        "plt.show()\n",
        "\n",
        "\n"
      ],
      "execution_count": 100,
      "outputs": [
        {
          "output_type": "display_data",
          "data": {
            "image/png": "[encoded data removed]",
            "text/plain": [
              "<Figure size 432x288 with 1 Axes>"
            ]
          },
          "metadata": {
            "tags": [],
            "needs_background": "light"
          }
        }
      ]
    },
    {
      "cell_type": "code",
      "metadata": {
        "colab": {
          "base_uri": "https://localhost:8080/",
          "height": 411
        },
        "id": "WI5VGdu-HQDz",
        "outputId": "a3d61664-924d-4b88-8213-a91431129dbd"
      },
      "source": [
        "sns.heatmap(df.corr(), annot=True, fmt=\".2f\");"
      ],
      "execution_count": 101,
      "outputs": [
        {
          "output_type": "display_data",
          "data": {
            "image/png": "[encoded data removed]",
            "text/plain": [
              "<Figure size 432x288 with 2 Axes>"
            ]
          },
          "metadata": {
            "tags": [],
            "needs_background": "light"
          }
        }
      ]
    },
    {
      "cell_type": "code",
      "metadata": {
        "colab": {
          "base_uri": "https://localhost:8080/",
          "height": 283
        },
        "id": "Wkfx6w75Nho8",
        "outputId": "c1079156-6394-4e3d-bbd5-1fd936c627f4"
      },
      "source": [
        "df[['price']].boxplot()"
      ],
      "execution_count": 102,
      "outputs": [
        {
          "output_type": "execute_result",
          "data": {
            "text/plain": [
              "<matplotlib.axes._subplots.AxesSubplot at 0x7f9a3f17c550>"
            ]
          },
          "metadata": {
            "tags": []
          },
          "execution_count": 102
        },
        {
          "output_type": "display_data",
          "data": {
            "image/png": "[encoded data removed]",
            "text/plain": [
              "<Figure size 432x288 with 1 Axes>"
            ]
          },
          "metadata": {
            "tags": [],
            "needs_background": "light"
          }
        }
      ]
    },
    {
      "cell_type": "code",
      "metadata": {
        "id": "hLvbl1ymH0BV"
      },
      "source": [
        "# Consider only numerical variables\n",
        "#X = df[['number_of_reviews', 'reviews_per_month', 'minimum_nights']]\n",
        "#y = df['price']\n",
        "\n",
        "#X_train, X_test, y_train, y_test = train_test_split(X, y, test_size = .30, random_state=42)\n",
        "\n",
        "#Four steps:\n",
        "\n",
        "#Instantiate\n",
        "##lm_model = LinearRegression(normalize=True) \n",
        "\n",
        "#Fit - why does this break?\n",
        "#lm_model.fit(X_train, y_train) \n",
        "\n",
        "#Predict\n",
        "#Score"
      ],
      "execution_count": 103,
      "outputs": []
    },
    {
      "cell_type": "markdown",
      "metadata": {
        "id": "U2i2LnsMYKRh"
      },
      "source": [
        "The  above code breaks due to NaN values, we will work with  missing values before applying models in the following section."
      ]
    },
    {
      "cell_type": "code",
      "metadata": {
        "colab": {
          "base_uri": "https://localhost:8080/"
        },
        "id": "bmfVPA0Pt5IT",
        "outputId": "3da7ad9d-4d10-43f7-f614-4794bbc3b7c9"
      },
      "source": [
        "#Check each column for NaN values\n",
        "df['price'].isnull().sum()"
      ],
      "execution_count": 104,
      "outputs": [
        {
          "output_type": "execute_result",
          "data": {
            "text/plain": [
              "0"
            ]
          },
          "metadata": {
            "tags": []
          },
          "execution_count": 104
        }
      ]
    },
    {
      "cell_type": "code",
      "metadata": {
        "id": "OlnzNDTKuAGk",
        "colab": {
          "base_uri": "https://localhost:8080/"
        },
        "outputId": "dd0e526f-5083-4275-d3e7-203724d57858"
      },
      "source": [
        "df['number_of_reviews'].isnull().sum()"
      ],
      "execution_count": 105,
      "outputs": [
        {
          "output_type": "execute_result",
          "data": {
            "text/plain": [
              "0"
            ]
          },
          "metadata": {
            "tags": []
          },
          "execution_count": 105
        }
      ]
    },
    {
      "cell_type": "code",
      "metadata": {
        "id": "fqbrcXhQto6C",
        "colab": {
          "base_uri": "https://localhost:8080/"
        },
        "outputId": "c958419e-d20f-4449-ba17-2c989dd6820e"
      },
      "source": [
        "df['reviews_per_month'].isnull().sum()"
      ],
      "execution_count": 106,
      "outputs": [
        {
          "output_type": "execute_result",
          "data": {
            "text/plain": [
              "1413"
            ]
          },
          "metadata": {
            "tags": []
          },
          "execution_count": 106
        }
      ]
    },
    {
      "cell_type": "markdown",
      "metadata": {
        "id": "9xSf17TeW2rI"
      },
      "source": [
        "Finding the missing values and handling that. There are no categorical variables. There are 1413 missing values and hence we are choosing imputation over removing the values as we want to keep it unbiased. Dropping values isn't preferable in this case. Imputation means that you input a value for values that were originally missing.\n",
        "\n",
        "It is very common to impute in the following ways:\n",
        "\n",
        "Impute the mean of a column.\n",
        "\n",
        "\n",
        "If you are working with categorical data or a variable with outliers, then use the mode of the column.\n",
        "\n",
        "\n",
        "Impute 0, a very small number, or a very large number to differentiate missing values from other values.\n",
        "\n",
        "\n",
        "Use knn to impute values based on features that are most similar.\n"
      ]
    },
    {
      "cell_type": "code",
      "metadata": {
        "colab": {
          "base_uri": "https://localhost:8080/"
        },
        "id": "dPSNmA84Vi9V",
        "outputId": "ec791819-2401-4ebe-d897-ea84e2cdc00d"
      },
      "source": [
        "missing = df['reviews_per_month'].isnull()\n",
        "print(missing)"
      ],
      "execution_count": 107,
      "outputs": [
        {
          "output_type": "stream",
          "text": [
            "0       False\n",
            "1       False\n",
            "2       False\n",
            "3       False\n",
            "4       False\n",
            "        ...  \n",
            "8780     True\n",
            "8781     True\n",
            "8782     True\n",
            "8783     True\n",
            "8784     True\n",
            "Name: reviews_per_month, Length: 8785, dtype: bool\n"
          ],
          "name": "stdout"
        }
      ]
    },
    {
      "cell_type": "code",
      "metadata": {
        "colab": {
          "base_uri": "https://localhost:8080/"
        },
        "id": "lEAldgTaX_Zn",
        "outputId": "a7bf867d-3350-47a1-fef9-1a0871629724"
      },
      "source": [
        "new_df = df['reviews_per_month']#Finding out the missing values in the column.\n",
        "print (new_df)"
      ],
      "execution_count": 108,
      "outputs": [
        {
          "output_type": "stream",
          "text": [
            "0       1.20\n",
            "1       0.57\n",
            "2       0.17\n",
            "3       0.13\n",
            "4       0.57\n",
            "        ... \n",
            "8780     NaN\n",
            "8781     NaN\n",
            "8782     NaN\n",
            "8783     NaN\n",
            "8784     NaN\n",
            "Name: reviews_per_month, Length: 8785, dtype: float64\n"
          ],
          "name": "stdout"
        }
      ]
    },
    {
      "cell_type": "code",
      "metadata": {
        "colab": {
          "base_uri": "https://localhost:8080/"
        },
        "id": "VWudUkdOsOQ0",
        "outputId": "ae9baaf4-7f8c-478e-bde0-3fdc84e89285"
      },
      "source": [
        "num_vars = df[['price', 'number_of_reviews','reviews_per_month','minimum_nights']]\n",
        "\n",
        "\n",
        "print(num_vars)"
      ],
      "execution_count": 109,
      "outputs": [
        {
          "output_type": "stream",
          "text": [
            "      price  number_of_reviews  reviews_per_month  minimum_nights\n",
            "0       354                168               1.20               2\n",
            "1      2400                 50               0.57               3\n",
            "2       725                 22               0.17               7\n",
            "3       750                 17               0.13               2\n",
            "4       930                 73               0.57               3\n",
            "...     ...                ...                ...             ...\n",
            "8780    649                  0                NaN               1\n",
            "8781    700                  0                NaN              28\n",
            "8782    720                  0                NaN               2\n",
            "8783    281                  0                NaN              14\n",
            "8784    520                  0                NaN               3\n",
            "\n",
            "[8785 rows x 4 columns]\n"
          ],
          "name": "stdout"
        }
      ]
    },
    {
      "cell_type": "code",
      "metadata": {
        "colab": {
          "base_uri": "https://localhost:8080/"
        },
        "id": "6b2Gt0cmdWj7",
        "outputId": "a8f6c1dc-0157-4248-d8e8-cd4d995b20d3"
      },
      "source": [
        "fill_df = df ['reviews_per_month'].fillna((df['reviews_per_month'].mean()))#Filling the columns with mean\n",
        "print (fill_df)"
      ],
      "execution_count": 110,
      "outputs": [
        {
          "output_type": "stream",
          "text": [
            "0       1.200000\n",
            "1       0.570000\n",
            "2       0.170000\n",
            "3       0.130000\n",
            "4       0.570000\n",
            "          ...   \n",
            "8780    0.604079\n",
            "8781    0.604079\n",
            "8782    0.604079\n",
            "8783    0.604079\n",
            "8784    0.604079\n",
            "Name: reviews_per_month, Length: 8785, dtype: float64\n"
          ],
          "name": "stdout"
        }
      ]
    },
    {
      "cell_type": "code",
      "metadata": {
        "colab": {
          "base_uri": "https://localhost:8080/"
        },
        "id": "Nnk38ZmwFE1S",
        "outputId": "c7320912-e676-4641-827b-048593b05b23"
      },
      "source": [
        "num_vars = df[['price', 'number_of_reviews','reviews_per_month','minimum_nights']]\n",
        "print(num_vars)"
      ],
      "execution_count": 111,
      "outputs": [
        {
          "output_type": "stream",
          "text": [
            "      price  number_of_reviews  reviews_per_month  minimum_nights\n",
            "0       354                168               1.20               2\n",
            "1      2400                 50               0.57               3\n",
            "2       725                 22               0.17               7\n",
            "3       750                 17               0.13               2\n",
            "4       930                 73               0.57               3\n",
            "...     ...                ...                ...             ...\n",
            "8780    649                  0                NaN               1\n",
            "8781    700                  0                NaN              28\n",
            "8782    720                  0                NaN               2\n",
            "8783    281                  0                NaN              14\n",
            "8784    520                  0                NaN               3\n",
            "\n",
            "[8785 rows x 4 columns]\n"
          ],
          "name": "stdout"
        }
      ]
    },
    {
      "cell_type": "code",
      "metadata": {
        "colab": {
          "base_uri": "https://localhost:8080/",
          "height": 399
        },
        "id": "f9YT0EJRILM-",
        "outputId": "c2329585-177a-4605-cbf4-02c39b0307e3"
      },
      "source": [
        "\n",
        "drop_sal_df = num_vars.fillna((df['reviews_per_month'].mean()))\n",
        "\n",
        "# test look\n",
        "drop_sal_df\n",
        "fill_mean = lambda col: col.fillna(col.mean()) # Mean function\n",
        "\n",
        "fill_df = drop_sal_df.apply(fill_mean, axis=0) #Fill all missing values with the mean of the column.\n",
        "\n",
        "# test look\n",
        "fill_df"
      ],
      "execution_count": 112,
      "outputs": [
        {
          "output_type": "execute_result",
          "data": {
            "text/html": [
              "<div>\n",
              "<style scoped>\n",
              "    .dataframe tbody tr th:only-of-type {\n",
              "        vertical-align: middle;\n",
              "    }\n",
              "\n",
              "    .dataframe tbody tr th {\n",
              "        vertical-align: top;\n",
              "    }\n",
              "\n",
              "    .dataframe thead th {\n",
              "        text-align: right;\n",
              "    }\n",
              "</style>\n",
              "<table border=\"1\" class=\"dataframe\">\n",
              "  <thead>\n",
              "    <tr style=\"text-align: right;\">\n",
              "      <th></th>\n",
              "      <th>price</th>\n",
              "      <th>number_of_reviews</th>\n",
              "      <th>reviews_per_month</th>\n",
              "      <th>minimum_nights</th>\n",
              "    </tr>\n",
              "  </thead>\n",
              "  <tbody>\n",
              "    <tr>\n",
              "      <th>0</th>\n",
              "      <td>354</td>\n",
              "      <td>168</td>\n",
              "      <td>1.200000</td>\n",
              "      <td>2</td>\n",
              "    </tr>\n",
              "    <tr>\n",
              "      <th>1</th>\n",
              "      <td>2400</td>\n",
              "      <td>50</td>\n",
              "      <td>0.570000</td>\n",
              "      <td>3</td>\n",
              "    </tr>\n",
              "    <tr>\n",
              "      <th>2</th>\n",
              "      <td>725</td>\n",
              "      <td>22</td>\n",
              "      <td>0.170000</td>\n",
              "      <td>7</td>\n",
              "    </tr>\n",
              "    <tr>\n",
              "      <th>3</th>\n",
              "      <td>750</td>\n",
              "      <td>17</td>\n",
              "      <td>0.130000</td>\n",
              "      <td>2</td>\n",
              "    </tr>\n",
              "    <tr>\n",
              "      <th>4</th>\n",
              "      <td>930</td>\n",
              "      <td>73</td>\n",
              "      <td>0.570000</td>\n",
              "      <td>3</td>\n",
              "    </tr>\n",
              "    <tr>\n",
              "      <th>...</th>\n",
              "      <td>...</td>\n",
              "      <td>...</td>\n",
              "      <td>...</td>\n",
              "      <td>...</td>\n",
              "    </tr>\n",
              "    <tr>\n",
              "      <th>8780</th>\n",
              "      <td>649</td>\n",
              "      <td>0</td>\n",
              "      <td>0.604079</td>\n",
              "      <td>1</td>\n",
              "    </tr>\n",
              "    <tr>\n",
              "      <th>8781</th>\n",
              "      <td>700</td>\n",
              "      <td>0</td>\n",
              "      <td>0.604079</td>\n",
              "      <td>28</td>\n",
              "    </tr>\n",
              "    <tr>\n",
              "      <th>8782</th>\n",
              "      <td>720</td>\n",
              "      <td>0</td>\n",
              "      <td>0.604079</td>\n",
              "      <td>2</td>\n",
              "    </tr>\n",
              "    <tr>\n",
              "      <th>8783</th>\n",
              "      <td>281</td>\n",
              "      <td>0</td>\n",
              "      <td>0.604079</td>\n",
              "      <td>14</td>\n",
              "    </tr>\n",
              "    <tr>\n",
              "      <th>8784</th>\n",
              "      <td>520</td>\n",
              "      <td>0</td>\n",
              "      <td>0.604079</td>\n",
              "      <td>3</td>\n",
              "    </tr>\n",
              "  </tbody>\n",
              "</table>\n",
              "<p>8785 rows × 4 columns</p>\n",
              "</div>"
            ],
            "text/plain": [
              "      price  number_of_reviews  reviews_per_month  minimum_nights\n",
              "0       354                168           1.200000               2\n",
              "1      2400                 50           0.570000               3\n",
              "2       725                 22           0.170000               7\n",
              "3       750                 17           0.130000               2\n",
              "4       930                 73           0.570000               3\n",
              "...     ...                ...                ...             ...\n",
              "8780    649                  0           0.604079               1\n",
              "8781    700                  0           0.604079              28\n",
              "8782    720                  0           0.604079               2\n",
              "8783    281                  0           0.604079              14\n",
              "8784    520                  0           0.604079               3\n",
              "\n",
              "[8785 rows x 4 columns]"
            ]
          },
          "metadata": {
            "tags": []
          },
          "execution_count": 112
        }
      ]
    },
    {
      "cell_type": "code",
      "metadata": {
        "colab": {
          "base_uri": "https://localhost:8080/"
        },
        "id": "sFKXeeQ9E8W1",
        "outputId": "ba5493d4-3d09-4586-c5cd-8706c316abe0"
      },
      "source": [
        "X = df[['number_of_reviews', 'reviews_per_month', 'minimum_nights']]\n",
        "y = df['price']#Create y using the response variable of Salary\n",
        "\n",
        "# Split data into training and test data, and fit a linear model\n",
        "X_train, X_test, y_train, y_test = train_test_split(X, y , test_size=.30, random_state=42)\n",
        "lm_model = LinearRegression(normalize=True)\n",
        "\n",
        "# If our model works, it should just fit our model to the data. Otherwise, it will let us know.\n",
        "try:\n",
        "    lm_model.fit(X_train, y_train)\n",
        "except:\n",
        "    print(\"Oh no! It doesn't work!!!\")"
      ],
      "execution_count": 113,
      "outputs": [
        {
          "output_type": "stream",
          "text": [
            "Oh no! It doesn't work!!!\n"
          ],
          "name": "stdout"
        }
      ]
    },
    {
      "cell_type": "code",
      "metadata": {
        "id": "uouO8H5Mugre",
        "colab": {
          "base_uri": "https://localhost:8080/"
        },
        "outputId": "c6aca4ed-4a95-4961-c7cb-7632b5b23e3b"
      },
      "source": [
        "df['minimum_nights'].isnull().sum()"
      ],
      "execution_count": 114,
      "outputs": [
        {
          "output_type": "execute_result",
          "data": {
            "text/plain": [
              "0"
            ]
          },
          "metadata": {
            "tags": []
          },
          "execution_count": 114
        }
      ]
    },
    {
      "cell_type": "code",
      "metadata": {
        "colab": {
          "base_uri": "https://localhost:8080/"
        },
        "id": "eyQ3W1T5urZ0",
        "outputId": "e1997ce9-000c-4b2d-b1a0-9b5bc6fb00b7"
      },
      "source": [
        "prop_sals = 1- df.isnull()['reviews_per_month'].mean()  # Proportion of listings in the dataset with reviews_per_month reported\n",
        "\n",
        "prop_sals"
      ],
      "execution_count": 115,
      "outputs": [
        {
          "output_type": "execute_result",
          "data": {
            "text/plain": [
              "0.83915765509391"
            ]
          },
          "metadata": {
            "tags": []
          },
          "execution_count": 115
        }
      ]
    },
    {
      "cell_type": "code",
      "metadata": {
        "id": "z7N7zrnvw5Ta"
      },
      "source": [
        "X = fill_df[['number_of_reviews', 'reviews_per_month', 'minimum_nights']]\n",
        "y = fill_df['price']#Create y using the response variable of Salary\n",
        "\n",
        "# Split data into training and test data, and fit a linear model\n",
        "X_train, X_test, y_train, y_test = train_test_split(X, y , test_size=.30, random_state=42)\n",
        "lm_model = LinearRegression(normalize=True)\n",
        "\n",
        "# If our model works, it should just fit our model to the data. Otherwise, it will let us know.\n",
        "try:\n",
        "    lm_model.fit(X_train, y_train)\n",
        "except:\n",
        "    print(\"Oh no! It doesn't work!!!\")\n",
        "\n",
        "  "
      ],
      "execution_count": 116,
      "outputs": []
    },
    {
      "cell_type": "markdown",
      "metadata": {
        "id": "Qfs5yA7Gy7tU"
      },
      "source": [
        "The above code worked!."
      ]
    },
    {
      "cell_type": "code",
      "metadata": {
        "colab": {
          "base_uri": "https://localhost:8080/",
          "height": 36
        },
        "id": "eAQSmvl0tYgp",
        "outputId": "b33e07c1-1d70-4b83-f5e6-a0f0464b9572"
      },
      "source": [
        "      \n",
        "#Predict and score the model\n",
        "y_test_preds = lm_model.predict(X_test) \n",
        "y_train_preds = lm_model.predict(X_train)\n",
        "\n",
        "#Rsquared and y_test\n",
        "rsquared_score = r2_score(y_test, y_test_preds)\n",
        "length_y_test = len(y_test)\n",
        "\n",
        "\"The r-squared score for your model was {} on {} values.\".format(rsquared_score, length_y_test)"
      ],
      "execution_count": 117,
      "outputs": [
        {
          "output_type": "execute_result",
          "data": {
            "application/vnd.google.colaboratory.intrinsic+json": {
              "type": "string"
            },
            "text/plain": [
              "'The r-squared score for your model was -0.0030520727982148443 on 2636 values.'"
            ]
          },
          "metadata": {
            "tags": []
          },
          "execution_count": 117
        }
      ]
    },
    {
      "cell_type": "code",
      "metadata": {
        "colab": {
          "base_uri": "https://localhost:8080/"
        },
        "id": "Ogyuo3smuU2n",
        "outputId": "694b3063-1c84-490d-8b3d-2c7d6632b8ef"
      },
      "source": [
        "   #Score using your model\n",
        "test_score = r2_score(y_test, y_test_preds)\n",
        "train_score = r2_score(y_train, y_train_preds)\n",
        "#Print training and testing score\n",
        "print(\"The rsquared on the training data was {}.  The rsquared on the test data was {}.\".format(train_score, test_score))"
      ],
      "execution_count": 118,
      "outputs": [
        {
          "output_type": "stream",
          "text": [
            "The rsquared on the training data was 0.0004583209510600206.  The rsquared on the test data was -0.0030520727982148443.\n"
          ],
          "name": "stdout"
        }
      ]
    },
    {
      "cell_type": "markdown",
      "metadata": {
        "id": "egN3NxaTvfcg"
      },
      "source": [
        "The difference in the value is small and that means it is not overfitting."
      ]
    },
    {
      "cell_type": "code",
      "metadata": {
        "colab": {
          "base_uri": "https://localhost:8080/"
        },
        "id": "phnO9cr90MpS",
        "outputId": "90e66d10-db3b-4d38-fff7-d14bf609139b"
      },
      "source": [
        "(np.sum(df.price.notnull()))"
      ],
      "execution_count": 119,
      "outputs": [
        {
          "output_type": "execute_result",
          "data": {
            "text/plain": [
              "8785"
            ]
          },
          "metadata": {
            "tags": []
          },
          "execution_count": 119
        }
      ]
    },
    {
      "cell_type": "code",
      "metadata": {
        "colab": {
          "base_uri": "https://localhost:8080/"
        },
        "id": "e8n5IA0G0KDg",
        "outputId": "2f94618f-69b6-4730-aee2-91e184535d1e"
      },
      "source": [
        "(len(y_test_preds))"
      ],
      "execution_count": 120,
      "outputs": [
        {
          "output_type": "execute_result",
          "data": {
            "text/plain": [
              "2636"
            ]
          },
          "metadata": {
            "tags": []
          },
          "execution_count": 120
        }
      ]
    },
    {
      "cell_type": "code",
      "metadata": {
        "colab": {
          "base_uri": "https://localhost:8080/",
          "height": 334
        },
        "id": "BuFEPwjgNuRI",
        "outputId": "038313c8-29f4-4a19-d28b-ab8a82fae4c5"
      },
      "source": [
        " #Plotting y_test and y_Test_pred to understand the spread.\n",
        "fig = plt.figure()\n",
        "plt.scatter(y_test,y_test_preds)\n",
        "fig.suptitle('y_test vs y_test_preds', fontsize=20)              # Plot heading \n",
        "plt.xlabel('y_test', fontsize=18)                          # X-label\n",
        "plt.ylabel('y_test_preds', fontsize=16)                          # Y-label\n"
      ],
      "execution_count": 121,
      "outputs": [
        {
          "output_type": "execute_result",
          "data": {
            "text/plain": [
              "Text(0, 0.5, 'y_test_preds')"
            ]
          },
          "metadata": {
            "tags": []
          },
          "execution_count": 121
        },
        {
          "output_type": "display_data",
          "data": {
            "image/png": "[encoded data removed]",
            "text/plain": [
              "<Figure size 432x288 with 1 Axes>"
            ]
          },
          "metadata": {
            "tags": [],
            "needs_background": "light"
          }
        }
      ]
    }
  ]
}